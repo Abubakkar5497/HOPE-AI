{
 "cells": [
  {
   "cell_type": "markdown",
   "id": "7d8b681e-ae4c-4fe3-b21b-a99eee522e84",
   "metadata": {},
   "source": [
    "# Assignment - 1\n",
    "\n",
    "## Functions"
   ]
  },
  {
   "cell_type": "code",
   "execution_count": 4,
   "id": "3ea24242-f427-47cb-bdb0-1b1c54199f5b",
   "metadata": {},
   "outputs": [
    {
     "name": "stdout",
     "output_type": "stream",
     "text": [
      "Sub-fields in AI are:\n",
      "Machine Learning\n",
      "Neural network\n",
      "Vision\n",
      "Robotics\n",
      "Speech processing\n",
      "Natural Language Processing\n"
     ]
    }
   ],
   "source": [
    "def  list_items(items_list):\n",
    "    for item in items_list:\n",
    "        print(item)\n",
    "subjects = ['Sub-fields in AI are:','Machine Learning','Neural network','Vision','Robotics','Speech processing','Natural Language Processing']\n",
    "\n",
    "list_items(subjects)"
   ]
  },
  {
   "cell_type": "code",
   "execution_count": 27,
   "id": "4b857883-9bc5-4726-99da-aa7850d0b27a",
   "metadata": {},
   "outputs": [
    {
     "name": "stdin",
     "output_type": "stream",
     "text": [
      "Enter a number: 52452\n"
     ]
    },
    {
     "name": "stdout",
     "output_type": "stream",
     "text": [
      "52452 is Even number\n"
     ]
    }
   ],
   "source": [
    "Odd_Even = int(input('Enter a number:'))\n",
    "def OddEven_OddEven(number):\n",
    "    if number % 2 ==0:\n",
    "        print(f\"{number} is Even number\")\n",
    "    else:\n",
    "        print(f\"{number} is Odd number\")\n",
    "\n",
    "OddEven_OddEven(Odd_Even)\n",
    "        "
   ]
  },
  {
   "cell_type": "code",
   "execution_count": 33,
   "id": "30307bad-de0b-469d-8413-1ac6e37031ef",
   "metadata": {},
   "outputs": [
    {
     "name": "stdin",
     "output_type": "stream",
     "text": [
      "Enter Your Gender: Male\n",
      "Enter Your Age: 21\n"
     ]
    },
    {
     "name": "stdout",
     "output_type": "stream",
     "text": [
      "Not Eligible\n"
     ]
    }
   ],
   "source": [
    "Gender = input('Enter Your Gender:')\n",
    "Age = int(input('Enter Your Age:'))\n",
    "def Check_eligibility_for_marriage(Gender, Age):\n",
    "    if Gender.lower() == 'Male' and Age >= 21:\n",
    "        print('Eligible')\n",
    "    elif Gender.lower() == 'Female' and Age >= 18:\n",
    "        print('Eligible')\n",
    "    else:\n",
    "         print('Not Eligible') \n",
    "        \n",
    "Check_eligibility_for_marriage(Gender, Age)"
   ]
  },
  {
   "cell_type": "code",
   "execution_count": 45,
   "id": "b5457be7-a597-4e6e-9d94-a8a9e5de63ff",
   "metadata": {},
   "outputs": [
    {
     "name": "stdout",
     "output_type": "stream",
     "text": [
      "Subject1= 98\n",
      "Subject2= 87\n",
      "Subject3= 95\n",
      "Subject4= 95\n",
      "Subject5= 93\n",
      "Total: 468\n",
      "Percentage: 93.6\n"
     ]
    }
   ],
   "source": [
    "def find_percent():\n",
    "    subject1 = 98\n",
    "    subject2 = 87\n",
    "    subject3 = 95\n",
    "    subject4 = 95\n",
    "    subject5 = 93\n",
    "    total_marks = subject1 + subject2 + subject3 + subject4 + subject5\n",
    "    percentage = (total_marks / len(marks))\n",
    "\n",
    "    print('Subject1=',subject1)\n",
    "    print('Subject2=',subject2)\n",
    "    print('Subject3=',subject3)\n",
    "    print('Subject4=',subject4)\n",
    "    print('Subject5=',subject5)\n",
    "\n",
    "    print(f\"Total: {total_marks}\")\n",
    "    print(f\"Percentage: {percentage:.1f}\")\n",
    "\n",
    "find_percent()"
   ]
  },
  {
   "cell_type": "code",
   "execution_count": 56,
   "id": "f7c79a74-152d-4047-a721-d380932b0c9e",
   "metadata": {},
   "outputs": [
    {
     "name": "stdout",
     "output_type": "stream",
     "text": [
      "Height: 32\n",
      "Breadth: 34\n",
      "Area_formula : (Height*Breadth)/2\n",
      "Area of Triangle: 544.0\n",
      "Height1: 2\n",
      "Height2: 4\n",
      "Breadth1: 4\n",
      "perimeter_of_Triangle = Height1 + Height2 + Breadth1\n",
      "perimeter of Triangle: 10\n"
     ]
    }
   ],
   "source": [
    "def triangle_traingle():\n",
    "\n",
    "    Height = 32\n",
    "    Breadth = 34\n",
    "    \n",
    "    Area_formula : (Height*Breadth)/2\n",
    "    Area_of_Triangle = (32*34)/2\n",
    "    \n",
    "    Height1 = 2\n",
    "    Height2 = 4\n",
    "    Breadth1 = 4\n",
    "    \n",
    "    \n",
    "    perimeter_of_Triangle = Height1 + Height2 + Breadth1\n",
    "    \n",
    "    print(f\"Height: {Height}\")\n",
    "    print(f\"Breadth: {Breadth}\")\n",
    "    print('Area_formula : (Height*Breadth)/2')\n",
    "    print(f\"Area of Triangle: {Area_of_Triangle}\")\n",
    "    print(f\"Height1: {Height1}\")\n",
    "    print(f\"Height2: {Height2}\")\n",
    "    print(f\"Breadth1: {Breadth1}\")\n",
    "    print('perimeter_of_Triangle = Height1 + Height2 + Breadth1')\n",
    "    print(f\"perimeter of Triangle: {perimeter_of_Triangle}\")\n",
    "\n",
    "triangle_traingle()\n",
    "\n"
   ]
  },
  {
   "cell_type": "code",
   "execution_count": null,
   "id": "f478d4e6-513e-4cd6-b5f1-e4dcbd49006c",
   "metadata": {},
   "outputs": [],
   "source": []
  }
 ],
 "metadata": {
  "kernelspec": {
   "display_name": "Python 3 (ipykernel)",
   "language": "python",
   "name": "python3"
  },
  "language_info": {
   "codemirror_mode": {
    "name": "ipython",
    "version": 3
   },
   "file_extension": ".py",
   "mimetype": "text/x-python",
   "name": "python",
   "nbconvert_exporter": "python",
   "pygments_lexer": "ipython3",
   "version": "3.11.7"
  }
 },
 "nbformat": 4,
 "nbformat_minor": 5
}

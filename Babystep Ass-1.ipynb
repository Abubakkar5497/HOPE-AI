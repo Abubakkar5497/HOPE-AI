{
 "cells": [
  {
   "cell_type": "markdown",
   "id": "9b4ecec8-3592-4ae8-93be-2837e7231c7b",
   "metadata": {},
   "source": [
    "# Assignment-1-Control Structures - Question\n",
    "\n",
    "## August 27,2024"
   ]
  },
  {
   "cell_type": "code",
   "execution_count": 1,
   "id": "4834ec52-23aa-49d2-a564-adec95833df9",
   "metadata": {},
   "outputs": [
    {
     "name": "stdout",
     "output_type": "stream",
     "text": [
      "Welcome to Assignment-1\n"
     ]
    }
   ],
   "source": [
    "print('Welcome to Assignment-1')"
   ]
  },
  {
   "cell_type": "code",
   "execution_count": 2,
   "id": "9fd44d52-0e90-49a8-9c24-fbda8168d2ca",
   "metadata": {},
   "outputs": [
    {
     "name": "stdin",
     "output_type": "stream",
     "text": [
      "Enter the Number-1: 20\n",
      "Enter the Number-2: 30\n"
     ]
    },
    {
     "name": "stdout",
     "output_type": "stream",
     "text": [
      "50\n"
     ]
    }
   ],
   "source": [
    "Num1 = int(input('Enter the Number-1:'))\n",
    "Num2 = int(input('Enter the Number-2:'))\n",
    "add = Num1+Num2\n",
    "print(add)\n",
    "           "
   ]
  },
  {
   "cell_type": "code",
   "execution_count": 8,
   "id": "e6073fe9-7ce4-4068-bc3a-80210630ab57",
   "metadata": {},
   "outputs": [
    {
     "name": "stdin",
     "output_type": "stream",
     "text": [
      "Enter the BMI Index:  34\n"
     ]
    },
    {
     "name": "stdout",
     "output_type": "stream",
     "text": [
      "Very OverWeight\n"
     ]
    }
   ],
   "source": [
    "BMI = int(input('Enter the BMI Index: '))\n",
    "if(BMI < 18.5):\n",
    "    print('Under Weight')\n",
    "elif(BMI < 24.9):\n",
    "    print('Normal')\n",
    "elif(BMI < 29.9):\n",
    "    print('Over Weight')\n",
    "elif(BMI < 34.9):\n",
    "    print('Very OverWeight')\n",
    "else:\n",
    "    print('Extremely OverWeight')\n",
    "    "
   ]
  },
  {
   "cell_type": "code",
   "execution_count": null,
   "id": "e6b42cb2-4a2c-4135-af07-d0d72623b5d7",
   "metadata": {},
   "outputs": [],
   "source": []
  }
 ],
 "metadata": {
  "kernelspec": {
   "display_name": "Python 3 (ipykernel)",
   "language": "python",
   "name": "python3"
  },
  "language_info": {
   "codemirror_mode": {
    "name": "ipython",
    "version": 3
   },
   "file_extension": ".py",
   "mimetype": "text/x-python",
   "name": "python",
   "nbconvert_exporter": "python",
   "pygments_lexer": "ipython3",
   "version": "3.11.7"
  }
 },
 "nbformat": 4,
 "nbformat_minor": 5
}

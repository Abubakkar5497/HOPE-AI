{
 "cells": [
  {
   "cell_type": "code",
   "execution_count": null,
   "id": "1ac2994a-3f72-49ab-8631-21d2c639ae16",
   "metadata": {},
   "outputs": [],
   "source": [
    "# Print statement\n",
    "print('abu')"
   ]
  },
  {
   "cell_type": "code",
   "execution_count": 1,
   "id": "3adb31bb-3ed0-4d82-9f6f-47279b87ff57",
   "metadata": {},
   "outputs": [
    {
     "name": "stdout",
     "output_type": "stream",
     "text": [
      "40\n"
     ]
    }
   ],
   "source": [
    "# Variable & Assignment Operator\n",
    "num1 = 10\n",
    "num2 = 30\n",
    "add = num1 + num2\n",
    "print(add)"
   ]
  },
  {
   "cell_type": "code",
   "execution_count": 2,
   "id": "2edb700e-5f4c-411b-b0c7-7bccf0129780",
   "metadata": {},
   "outputs": [
    {
     "name": "stdout",
     "output_type": "stream",
     "text": [
      "Abubakkar\n"
     ]
    }
   ],
   "source": [
    "First_name = 'Abubakkar'\n",
    "print(First_name)"
   ]
  },
  {
   "cell_type": "code",
   "execution_count": 3,
   "id": "c5523434-911b-4366-9ca7-d8d2bae0c0af",
   "metadata": {},
   "outputs": [
    {
     "name": "stdout",
     "output_type": "stream",
     "text": [
      "The Addition of two numbers\n",
      "The number1 10\n",
      "The number2 20\n",
      "The answer: 30\n"
     ]
    }
   ],
   "source": [
    "# Line by execution for Pro-Secret to write efficient code.\n",
    "# Input statement\n",
    "print('The Addition of two numbers')\n",
    "num1 = 10\n",
    "print('The number1',num1)\n",
    "num2 = 20\n",
    "print('The number2',num2)\n",
    "print('The answer:',num1+num2)"
   ]
  },
  {
   "cell_type": "code",
   "execution_count": 4,
   "id": "366225a8-9918-4681-a0cb-cda78e968e87",
   "metadata": {},
   "outputs": [
    {
     "name": "stdout",
     "output_type": "stream",
     "text": [
      "The Addition of two numbers\n",
      "The number1 10\n",
      "The number2 20\n",
      "The answer: 30\n"
     ]
    }
   ],
   "source": [
    "print('The Addition of two numbers')\n",
    "num1 = 10\n",
    "print('The number1',num1)\n",
    "num2 = 20\n",
    "print('The number2',num2)\n",
    "add = num1 + num2\n",
    "print('The answer:',add)"
   ]
  },
  {
   "cell_type": "code",
   "execution_count": 5,
   "id": "c028217c-5334-406e-8931-167aa0c15b75",
   "metadata": {},
   "outputs": [
    {
     "name": "stdin",
     "output_type": "stream",
     "text": [
      "Enter the number1: 20\n"
     ]
    }
   ],
   "source": [
    "Num1 = int(input('Enter the number1:' ))\n"
   ]
  },
  {
   "cell_type": "code",
   "execution_count": 6,
   "id": "5bef538c-e2a5-42b0-b569-16adb8d01118",
   "metadata": {},
   "outputs": [
    {
     "name": "stdin",
     "output_type": "stream",
     "text": [
      "Enter the number2: 30\n"
     ]
    }
   ],
   "source": [
    "Num2 = int(input('Enter the number2:' ))"
   ]
  },
  {
   "cell_type": "code",
   "execution_count": 7,
   "id": "3efd1095-66fb-47e0-ba5f-a0d23c878d1a",
   "metadata": {},
   "outputs": [
    {
     "name": "stdout",
     "output_type": "stream",
     "text": [
      "50\n"
     ]
    }
   ],
   "source": [
    "add = Num1 + Num2\n",
    "print(add)\n"
   ]
  },
  {
   "cell_type": "code",
   "execution_count": null,
   "id": "69ce649b-20a2-4b8f-bb84-97fc8cc2d45e",
   "metadata": {},
   "outputs": [],
   "source": [
    "# Control Structure\n",
    "# if - else\n",
    "# if - Elif\n",
    "# For loop\n",
    "# While loop\n",
    "\n",
    "# If Family -->[Single Input check with Multiple conditions we choose if family]"
   ]
  },
  {
   "cell_type": "code",
   "execution_count": 8,
   "id": "a15d06a6-0397-4c9c-87e2-325442a4af73",
   "metadata": {},
   "outputs": [],
   "source": [
    "# if\n",
    "# if():---> use condition here\n",
    "#    print() ---> Syntex for If statement"
   ]
  },
  {
   "cell_type": "code",
   "execution_count": 5,
   "id": "86e98215-4eeb-4057-8405-94fadc2527e4",
   "metadata": {},
   "outputs": [
    {
     "name": "stdin",
     "output_type": "stream",
     "text": [
      "enter your age: 20\n"
     ]
    }
   ],
   "source": [
    "age = int(input('enter your age:' ))"
   ]
  },
  {
   "cell_type": "code",
   "execution_count": 3,
   "id": "d3c540fe-1180-487e-83dc-b8ae326d0d9d",
   "metadata": {},
   "outputs": [
    {
     "name": "stdout",
     "output_type": "stream",
     "text": [
      "Adult\n"
     ]
    }
   ],
   "source": [
    "if(age==18): # One Condition\n",
    "    print('Adult')"
   ]
  },
  {
   "cell_type": "code",
   "execution_count": 8,
   "id": "5eeca9c2-735f-4a04-9700-f31cc4a3f749",
   "metadata": {},
   "outputs": [
    {
     "name": "stdout",
     "output_type": "stream",
     "text": [
      "Adult\n"
     ]
    }
   ],
   "source": [
    "if(age>=18):\n",
    "    print('Adult')"
   ]
  },
  {
   "cell_type": "code",
   "execution_count": 11,
   "id": "e1ef56cf-0999-4362-9991-6a92f37f0c33",
   "metadata": {},
   "outputs": [
    {
     "name": "stdin",
     "output_type": "stream",
     "text": [
      "Enter your age:  0\n"
     ]
    },
    {
     "name": "stdout",
     "output_type": "stream",
     "text": [
      "Minor\n"
     ]
    }
   ],
   "source": [
    "# if - else\n",
    "Age = int(input('Enter your age: ')) # 2 conditions means use if-else condition\n",
    "if(Age >=18):\n",
    "    print('Adult')\n",
    "else:\n",
    "    print('Minor')"
   ]
  },
  {
   "cell_type": "code",
   "execution_count": 18,
   "id": "cd601c96-a6b8-4a03-a7e9-570d71bdce62",
   "metadata": {},
   "outputs": [
    {
     "name": "stdin",
     "output_type": "stream",
     "text": [
      "Enter your age: 18\n"
     ]
    },
    {
     "name": "stdout",
     "output_type": "stream",
     "text": [
      "Adult\n"
     ]
    }
   ],
   "source": [
    "Age = int(input('Enter your age:' )) # 3 or more condition we use if-elif condition\n",
    "if(Age<18):\n",
    "    print('Children')\n",
    "elif(Age<35):\n",
    "    print('Adult')\n",
    "elif(Age<59):\n",
    "    print('Citizen')\n",
    "else:\n",
    "    print('Senior Citizen')\n",
    "\n",
    "          "
   ]
  },
  {
   "cell_type": "code",
   "execution_count": 19,
   "id": "e530ed68-ed32-430d-8bb9-bde9c9630839",
   "metadata": {},
   "outputs": [],
   "source": [
    "# Loop family-->( loop means Repeat)\n",
    "# For loop and While loop"
   ]
  },
  {
   "cell_type": "code",
   "execution_count": 20,
   "id": "7c2d4746-cad3-4a24-acde-f601b42e9ddb",
   "metadata": {},
   "outputs": [
    {
     "name": "stdout",
     "output_type": "stream",
     "text": [
      "23\n",
      "45\n",
      "67\n",
      "34\n",
      "89\n"
     ]
    }
   ],
   "source": [
    "# For Loop --> Multiple inputs check with one set of condition means we go for (For Loop)\n",
    "lists = [23,45,67,34,89] # ---> Multiple inputs add in list is mainvariable and temp is tempurary variable.\n",
    "for temp in lists: # ---> (in) is syntex her\n",
    "    print(temp)"
   ]
  },
  {
   "cell_type": "code",
   "execution_count": 33,
   "id": "87ab7912-c8d7-4c4b-8a04-b8d039d7658a",
   "metadata": {},
   "outputs": [
    {
     "name": "stdout",
     "output_type": "stream",
     "text": [
      "Adult\n",
      "Citizen\n",
      "Senior Citizen\n",
      "Adult\n",
      "Senior Citizen\n"
     ]
    }
   ],
   "source": [
    "for Age in lists: # this line is one control structure\n",
    "    if(Age<18): # if family is another control structure\n",
    "        print('Children')\n",
    "    elif(Age<35):\n",
    "          print('Adult')\n",
    "    elif(Age<59):\n",
    "          print('Citizen')\n",
    "    else:\n",
    "          print('Senior Citizen')"
   ]
  },
  {
   "cell_type": "code",
   "execution_count": 39,
   "id": "e9a4b639-8233-4c18-a378-9891dbad7f54",
   "metadata": {},
   "outputs": [
    {
     "name": "stdin",
     "output_type": "stream",
     "text": [
      "Enter the number: 41\n"
     ]
    },
    {
     "name": "stdout",
     "output_type": "stream",
     "text": [
      "Odd\n"
     ]
    }
   ],
   "source": [
    "# Check for Odd and Even\n",
    "num = int(input('Enter the number:' ))\n",
    "if((num%2)==0):\n",
    "    print('Even')\n",
    "else:\n",
    "    print('Odd')"
   ]
  },
  {
   "cell_type": "code",
   "execution_count": 45,
   "id": "a156ec7a-8a2b-4dad-ad5a-74e4ae01ecdf",
   "metadata": {},
   "outputs": [
    {
     "name": "stdin",
     "output_type": "stream",
     "text": [
      "Enter the number: 3\n"
     ]
    },
    {
     "name": "stdout",
     "output_type": "stream",
     "text": [
      "Odd\n"
     ]
    }
   ],
   "source": [
    "num = int(input('Enter the number:' ))\n",
    "if((num%2)==1):\n",
    "    print('Odd')\n",
    "else:\n",
    "    print('Even')"
   ]
  },
  {
   "cell_type": "code",
   "execution_count": 46,
   "id": "dc4f3574-22d4-4d11-9351-0a4cc17d2393",
   "metadata": {},
   "outputs": [
    {
     "name": "stdout",
     "output_type": "stream",
     "text": [
      "0\n",
      "1\n",
      "2\n",
      "3\n",
      "4\n",
      "5\n",
      "6\n",
      "7\n",
      "8\n",
      "9\n"
     ]
    }
   ],
   "source": [
    "# (range) is inbuild function\n",
    "for i in range(0,10):\n",
    "    print(i)"
   ]
  },
  {
   "cell_type": "code",
   "execution_count": 1,
   "id": "693147ee-377f-4b16-9f82-82d8c588c065",
   "metadata": {},
   "outputs": [
    {
     "name": "stdout",
     "output_type": "stream",
     "text": [
      "10\n",
      "12\n",
      "14\n",
      "16\n",
      "18\n"
     ]
    }
   ],
   "source": [
    "for i in range(10,20,2):\n",
    "    print(i)"
   ]
  },
  {
   "cell_type": "code",
   "execution_count": null,
   "id": "6ceba6e6-d18c-4c46-837e-b9bb2eae4934",
   "metadata": {},
   "outputs": [],
   "source": []
  }
 ],
 "metadata": {
  "kernelspec": {
   "display_name": "Python 3 (ipykernel)",
   "language": "python",
   "name": "python3"
  },
  "language_info": {
   "codemirror_mode": {
    "name": "ipython",
    "version": 3
   },
   "file_extension": ".py",
   "mimetype": "text/x-python",
   "name": "python",
   "nbconvert_exporter": "python",
   "pygments_lexer": "ipython3",
   "version": "3.11.7"
  }
 },
 "nbformat": 4,
 "nbformat_minor": 5
}

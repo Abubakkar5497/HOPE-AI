{
 "cells": [
  {
   "cell_type": "markdown",
   "id": "9b4ecec8-3592-4ae8-93be-2837e7231c7b",
   "metadata": {},
   "source": [
    "# BabyStep Assignment-1-Control Structures - Question\n"
   ]
  },
  {
   "cell_type": "code",
   "execution_count": 1,
   "id": "4834ec52-23aa-49d2-a564-adec95833df9",
   "metadata": {},
   "outputs": [
    {
     "name": "stdout",
     "output_type": "stream",
     "text": [
      "Welcome to Assignment-1\n"
     ]
    }
   ],
   "source": [
    "print('Welcome to Assignment-1')"
   ]
  },
  {
   "cell_type": "code",
   "execution_count": 2,
   "id": "9fd44d52-0e90-49a8-9c24-fbda8168d2ca",
   "metadata": {},
   "outputs": [
    {
     "name": "stdin",
     "output_type": "stream",
     "text": [
      "Enter the Number-1: 20\n",
      "Enter the Number-2: 30\n"
     ]
    },
    {
     "name": "stdout",
     "output_type": "stream",
     "text": [
      "50\n"
     ]
    }
   ],
   "source": [
    "Num1 = int(input('Enter the Number-1:'))\n",
    "Num2 = int(input('Enter the Number-2:'))\n",
    "add = Num1+Num2\n",
    "print(add)\n",
    "           "
   ]
  },
  {
   "cell_type": "code",
   "execution_count": 8,
   "id": "e6073fe9-7ce4-4068-bc3a-80210630ab57",
   "metadata": {},
   "outputs": [
    {
     "name": "stdin",
     "output_type": "stream",
     "text": [
      "Enter the BMI Index:  34\n"
     ]
    },
    {
     "name": "stdout",
     "output_type": "stream",
     "text": [
      "Very OverWeight\n"
     ]
    }
   ],
   "source": [
    "BMI = int(input('Enter the BMI Index: '))\n",
    "if(BMI < 18.5):\n",
    "    print('Under Weight')\n",
    "elif(BMI < 24.9):\n",
    "    print('Normal')\n",
    "elif(BMI < 29.9):\n",
    "    print('Over Weight')\n",
    "elif(BMI < 34.9):\n",
    "    print('Very OverWeight')\n",
    "else:\n",
    "    print('Extremely OverWeight')\n",
    "    "
   ]
  },
  {
   "cell_type": "markdown",
   "id": "2d5afd13-bf41-41af-af33-8fc09eb13866",
   "metadata": {},
   "source": [
    "## Extra Assginment -1\n"
   ]
  },
  {
   "cell_type": "code",
   "execution_count": 1,
   "id": "2f99f8cd-4615-4b00-b7c9-19493109db5c",
   "metadata": {},
   "outputs": [
    {
     "name": "stdout",
     "output_type": "stream",
     "text": [
      "HOPE AI\n"
     ]
    }
   ],
   "source": [
    "# print statement\n",
    "print('HOPE AI')"
   ]
  },
  {
   "cell_type": "code",
   "execution_count": 2,
   "id": "7fd90850-0294-4c97-9665-0d74ebd90be0",
   "metadata": {},
   "outputs": [
    {
     "name": "stdin",
     "output_type": "stream",
     "text": [
      "Enter your Institute name? : HOPE AI\n"
     ]
    }
   ],
   "source": [
    "# Buy input\n",
    "Institute_name = input('Enter your Institute name? :')"
   ]
  },
  {
   "cell_type": "code",
   "execution_count": 4,
   "id": "a72f4770-7b01-4975-a04d-e660968101e9",
   "metadata": {},
   "outputs": [
    {
     "name": "stdin",
     "output_type": "stream",
     "text": [
      "Enter your name: Raj\n",
      "Enter your age: 15\n",
      "Enter your school: Guru school\n",
      "Enter your degree: B.E CSE\n"
     ]
    }
   ],
   "source": [
    "# Buy input\n",
    "name = input('Enter your name:')\n",
    "age = input('Enter your age:')\n",
    "school = input('Enter your school:')\n",
    "degree = input('Enter your degree:')"
   ]
  },
  {
   "cell_type": "code",
   "execution_count": 8,
   "id": "21559ea3-2870-46cb-9592-a93e5576fbc6",
   "metadata": {},
   "outputs": [
    {
     "name": "stdin",
     "output_type": "stream",
     "text": [
      "a= 43\n",
      "b= 34\n"
     ]
    },
    {
     "name": "stdout",
     "output_type": "stream",
     "text": [
      "add = 77\n"
     ]
    }
   ],
   "source": [
    "# Addition\n",
    "= int(input('a='))\n",
    "b = int(input('b='))\n",
    "add = a+b\n",
    "print('add =',add)\n",
    "        "
   ]
  },
  {
   "cell_type": "code",
   "execution_count": 9,
   "id": "72cf7bdb-128d-48ac-b39d-f3b555936cb8",
   "metadata": {},
   "outputs": [
    {
     "name": "stdin",
     "output_type": "stream",
     "text": [
      "a= 43\n",
      "b= 34\n"
     ]
    },
    {
     "name": "stdout",
     "output_type": "stream",
     "text": [
      "sub = 9\n"
     ]
    }
   ],
   "source": [
    "# Subtraction\n",
    "a = int(input('a='))\n",
    "b = int(input('b='))\n",
    "sub = a-b\n",
    "print('sub =',sub)"
   ]
  },
  {
   "cell_type": "code",
   "execution_count": 13,
   "id": "ce766a03-d5f7-4c2d-ae13-d130746642c5",
   "metadata": {},
   "outputs": [
    {
     "name": "stdin",
     "output_type": "stream",
     "text": [
      "a= 63\n",
      "b= 97\n"
     ]
    },
    {
     "name": "stdout",
     "output_type": "stream",
     "text": [
      "Mul = 6111\n"
     ]
    }
   ],
   "source": [
    "# Multiplication\n",
    "a = int(input('a='))\n",
    "b = int(input('b='))\n",
    "Mul = a*b\n",
    "print('Mul =',Mul)"
   ]
  },
  {
   "cell_type": "code",
   "execution_count": 18,
   "id": "8ea4d278-6bde-4c5a-ae94-46f43125611a",
   "metadata": {},
   "outputs": [
    {
     "name": "stdin",
     "output_type": "stream",
     "text": [
      "a= 76\n",
      "b= 31\n"
     ]
    },
    {
     "name": "stdout",
     "output_type": "stream",
     "text": [
      "Float Div = 2.4516129032258065\n"
     ]
    }
   ],
   "source": [
    "# Division\n",
    "a = int(input('a='))\n",
    "b = int(input('b='))\n",
    "Float_Div = a/b\n",
    "print('Float Div =',Float_Div)"
   ]
  },
  {
   "cell_type": "code",
   "execution_count": 17,
   "id": "9297a4c8-b308-4782-b771-33647cf0392c",
   "metadata": {},
   "outputs": [
    {
     "name": "stdin",
     "output_type": "stream",
     "text": [
      "a= 76\n",
      "b= 31\n"
     ]
    },
    {
     "name": "stdout",
     "output_type": "stream",
     "text": [
      "Floor Div = 2\n"
     ]
    }
   ],
   "source": [
    "# Floor Division\n",
    "a = int(input('a='))\n",
    "b = int(input('b='))\n",
    "Floor_Div = a//b\n",
    "print('Floor Div =',Floor_Div)"
   ]
  },
  {
   "cell_type": "code",
   "execution_count": 20,
   "id": "4473b1d7-86de-4bda-8a23-e22cccca64b1",
   "metadata": {},
   "outputs": [
    {
     "name": "stdin",
     "output_type": "stream",
     "text": [
      "a= 76\n",
      "b= 31\n"
     ]
    },
    {
     "name": "stdout",
     "output_type": "stream",
     "text": [
      "modulo = 14\n"
     ]
    }
   ],
   "source": [
    "# Modulo\n",
    "a = int(input('a='))\n",
    "b = int(input('b='))\n",
    "modulo = a%b\n",
    "print('modulo =',modulo)\n",
    "\n",
    "        "
   ]
  },
  {
   "cell_type": "code",
   "execution_count": 21,
   "id": "7821b816-9765-4388-a480-318838d0e08a",
   "metadata": {},
   "outputs": [
    {
     "name": "stdin",
     "output_type": "stream",
     "text": [
      "a= 4\n",
      "b= 4\n"
     ]
    },
    {
     "name": "stdout",
     "output_type": "stream",
     "text": [
      "Power = 256\n"
     ]
    }
   ],
   "source": [
    "# Power\n",
    "a = int(input('a='))\n",
    "b = int(input('b='))\n",
    "Power = a**b\n",
    "print('Power =',Power)"
   ]
  },
  {
   "cell_type": "code",
   "execution_count": null,
   "id": "c3735cbe-2001-4701-a722-7ad5191fb3f4",
   "metadata": {},
   "outputs": [],
   "source": [
    "\n"
   ]
  },
  {
   "cell_type": "markdown",
   "id": "131a0cb4-8213-41e1-92d1-1724edfd5883",
   "metadata": {},
   "source": [
    "## Extra assignment- 2\n"
   ]
  },
  {
   "cell_type": "code",
   "execution_count": 24,
   "id": "e6d4f909-ba4c-45fb-acbe-df6ab8b80ba1",
   "metadata": {},
   "outputs": [
    {
     "name": "stdout",
     "output_type": "stream",
     "text": [
      "0\n",
      "1\n",
      "2\n",
      "3\n",
      "4\n",
      "5\n",
      "6\n",
      "7\n",
      "8\n",
      "9\n",
      "10\n",
      "11\n",
      "12\n",
      "13\n",
      "14\n",
      "15\n",
      "16\n",
      "17\n",
      "18\n",
      "19\n"
     ]
    }
   ],
   "source": [
    "# Print 0 to 20 by using range\n",
    "for i in range(20):\n",
    "    print(i)"
   ]
  },
  {
   "cell_type": "code",
   "execution_count": 29,
   "id": "a92d7b43-a53a-4af5-857b-2ee7401d8262",
   "metadata": {},
   "outputs": [
    {
     "name": "stdout",
     "output_type": "stream",
     "text": [
      "10 11 12 13 14 15 16 17 18 19 "
     ]
    }
   ],
   "source": [
    "# Print range to 20\n",
    "for i in range(10,20):\n",
    "    print(i, end=' ')"
   ]
  },
  {
   "cell_type": "code",
   "execution_count": 30,
   "id": "db83c685-b24c-4626-ab3e-d68bc642a74e",
   "metadata": {},
   "outputs": [
    {
     "name": "stdout",
     "output_type": "stream",
     "text": [
      "[10, 20, 14, 55, 43, 87, 76]\n",
      "Number of item in the List2:\n"
     ]
    },
    {
     "data": {
      "text/plain": [
       "7"
      ]
     },
     "execution_count": 30,
     "metadata": {},
     "output_type": "execute_result"
    }
   ],
   "source": [
    "# Print number of item in the list by using\n",
    "List = [10,20,14,55,43,87,76]\n",
    "print(List)\n",
    "print('Number of item in the List2:')\n",
    "len(List)"
   ]
  },
  {
   "cell_type": "code",
   "execution_count": 34,
   "id": "79183c6b-945f-4b4c-a4ec-b9a72eb91a88",
   "metadata": {},
   "outputs": [
    {
     "name": "stdout",
     "output_type": "stream",
     "text": [
      "Artificial Intelligence\n",
      "A\n",
      "r\n",
      "t\n",
      "i\n",
      "f\n",
      "i\n",
      "c\n",
      "i\n",
      "a\n",
      "l\n",
      "\n",
      "I\n",
      "n\n",
      "t\n",
      "e\n",
      "l\n",
      "l\n",
      "i\n",
      "g\n",
      "e\n",
      "n\n",
      "c\n",
      "e\n"
     ]
    }
   ],
   "source": [
    "print('Artificial Intelligence')\n",
    "AI = 'Artificial Intelligence'\n",
    "for i in AI:\n",
    "    if i == ' ':\n",
    "        print()\n",
    "    else:\n",
    "        print(i)"
   ]
  },
  {
   "cell_type": "code",
   "execution_count": 35,
   "id": "be2fb08f-dbb4-43fb-a220-4d43e0be7382",
   "metadata": {},
   "outputs": [
    {
     "name": "stdout",
     "output_type": "stream",
     "text": [
      "-Your Name-\n",
      "-Your Age-\n",
      "-Your Profession-\n"
     ]
    }
   ],
   "source": [
    "print('-Your Name-')\n",
    "print('-Your Age-')\n",
    "print('-Your Profession-')"
   ]
  },
  {
   "cell_type": "code",
   "execution_count": 36,
   "id": "810bed79-6092-4cc8-8821-169233b5dac7",
   "metadata": {},
   "outputs": [
    {
     "name": "stdout",
     "output_type": "stream",
     "text": [
      "(1, 'welcome', 2, 'Hope')\n"
     ]
    }
   ],
   "source": [
    "# Print using this mixered datatypes using Tuples\n",
    "Tuple1 = (1,'welcome', 2,'Hope')\n",
    "print(Tuple1)\n"
   ]
  },
  {
   "cell_type": "code",
   "execution_count": 38,
   "id": "06efdade-5da3-42cb-be4b-8ab67f9c0222",
   "metadata": {},
   "outputs": [
    {
     "name": "stdout",
     "output_type": "stream",
     "text": [
      "((0, 1, 2, 3), ('python', 'HOPE'))\n"
     ]
    }
   ],
   "source": [
    "Tuple1 = ((0,1,2,3),('python', 'HOPE'))\n",
    "print(Tuple1)"
   ]
  },
  {
   "cell_type": "code",
   "execution_count": 46,
   "id": "f27547c1-530b-46a8-bfdb-805283da9d9c",
   "metadata": {},
   "outputs": [
    {
     "name": "stdout",
     "output_type": "stream",
     "text": [
      "19 is Odd\n",
      "25 is Odd\n",
      "1 is Odd\n"
     ]
    }
   ],
   "source": [
    "# print Odd number in the list\n",
    "List =[20,10,16,19,25,1,276,188]\n",
    "for num in List:\n",
    "    if num%2 ==1:\n",
    "        print(f\"{num} is Odd\")\n",
    "    "
   ]
  },
  {
   "cell_type": "code",
   "execution_count": 47,
   "id": "c002a56b-12a1-4512-9dd1-7f0fb4934636",
   "metadata": {},
   "outputs": [
    {
     "name": "stdout",
     "output_type": "stream",
     "text": [
      "20 is Even\n",
      "10 is Even\n",
      "16 is Even\n",
      "276 is Even\n",
      "188 is Even\n"
     ]
    }
   ],
   "source": [
    "# print Even number in the list\n",
    "List =[20,10,16,19,25,1,276,188]\n",
    "for num in List:\n",
    "    if num%2 ==0:\n",
    "        print(f\"{num} is Even\")"
   ]
  },
  {
   "cell_type": "code",
   "execution_count": null,
   "id": "eb183b05-6316-40fc-b944-9ea41abb185d",
   "metadata": {},
   "outputs": [],
   "source": []
  },
  {
   "cell_type": "markdown",
   "id": "dee49a9d-2944-4cad-8e93-2f5e1506cbcf",
   "metadata": {},
   "source": [
    "# Extra Assignment-3"
   ]
  },
  {
   "cell_type": "code",
   "execution_count": 52,
   "id": "ba337032-9811-4c05-8e1f-f5de7027b64c",
   "metadata": {},
   "outputs": [
    {
     "name": "stdin",
     "output_type": "stream",
     "text": [
      "value: 10\n"
     ]
    },
    {
     "name": "stdout",
     "output_type": "stream",
     "text": [
      "Correct\n"
     ]
    }
   ],
   "source": [
    "# print 'correct' if ==10\n",
    "num1 = int(input('value:'))\n",
    "if num1 == 10:\n",
    "        print('Correct')"
   ]
  },
  {
   "cell_type": "code",
   "execution_count": 58,
   "id": "b06c8d5f-8152-4615-a688-cb5d5d2c3007",
   "metadata": {},
   "outputs": [
    {
     "name": "stdin",
     "output_type": "stream",
     "text": [
      "Enter the password:  HOPE@123\n"
     ]
    },
    {
     "name": "stdout",
     "output_type": "stream",
     "text": [
      "Your password is Correct\n"
     ]
    }
   ],
   "source": [
    "# Check the password, using if andl else\n",
    "Password = input('Enter the password: ')\n",
    "if Password == 'HOPE@123':\n",
    "    print('Your password is Correct')\n",
    "else:\n",
    "    print('Your password is Incorrect')"
   ]
  },
  {
   "cell_type": "code",
   "execution_count": 61,
   "id": "dc70be73-40f0-4b3b-9cd6-275607832126",
   "metadata": {},
   "outputs": [
    {
     "name": "stdin",
     "output_type": "stream",
     "text": [
      "age: 20\n"
     ]
    },
    {
     "name": "stdout",
     "output_type": "stream",
     "text": [
      "Adult\n"
     ]
    }
   ],
   "source": [
    "# Catagory the people by their age like Children, adult, citizen, senior citizen...\n",
    "Age = int(input('age:'))\n",
    "if Age<18:\n",
    "    print('Children')\n",
    "elif Age<40:\n",
    "    print('Adult')\n",
    "elif Age<50:\n",
    "    print('Citizen')\n",
    "else:\n",
    "    print('Senior citizen')"
   ]
  },
  {
   "cell_type": "code",
   "execution_count": 63,
   "id": "fac06e9c-e12a-4ec3-ab42-44cf5e116c8b",
   "metadata": {},
   "outputs": [
    {
     "name": "stdin",
     "output_type": "stream",
     "text": [
      "Enter any number: 1\n"
     ]
    },
    {
     "name": "stdout",
     "output_type": "stream",
     "text": [
      "No is poitive\n"
     ]
    }
   ],
   "source": [
    "# Find Whether given number is positive or negative\n",
    "num = int(input('Enter any number:'))\n",
    "if num > 1:\n",
    "    print('Yes is positive')\n",
    "elif num <=1:\n",
    "    print('No is poitive')\n",
    "else:\n",
    "    print('The number is zero')\n",
    "    "
   ]
  },
  {
   "cell_type": "code",
   "execution_count": 64,
   "id": "c2ccd02b-2c70-4196-8d6d-4f96324a538d",
   "metadata": {},
   "outputs": [
    {
     "name": "stdin",
     "output_type": "stream",
     "text": [
      "Enter a number to check: 22\n"
     ]
    },
    {
     "name": "stdout",
     "output_type": "stream",
     "text": [
      "No is not divisible by 5\n"
     ]
    }
   ],
   "source": [
    "# Check whether the given number is divisible by 5\n",
    "num = int(input('Enter a number to check:'))\n",
    "if num % 5 ==0:\n",
    "    print('Yes is divisible  by 5')\n",
    "else:\n",
    "    print('No is not divisible by 5')\n",
    "          "
   ]
  },
  {
   "cell_type": "code",
   "execution_count": null,
   "id": "a75bab2e-acb7-4440-bc59-2bb0c6616237",
   "metadata": {},
   "outputs": [],
   "source": []
  }
 ],
 "metadata": {
  "kernelspec": {
   "display_name": "Python 3 (ipykernel)",
   "language": "python",
   "name": "python3"
  },
  "language_info": {
   "codemirror_mode": {
    "name": "ipython",
    "version": 3
   },
   "file_extension": ".py",
   "mimetype": "text/x-python",
   "name": "python",
   "nbconvert_exporter": "python",
   "pygments_lexer": "ipython3",
   "version": "3.11.7"
  }
 },
 "nbformat": 4,
 "nbformat_minor": 5
}

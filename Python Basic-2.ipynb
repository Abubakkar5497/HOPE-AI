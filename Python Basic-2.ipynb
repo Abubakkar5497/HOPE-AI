{
 "cells": [
  {
   "cell_type": "markdown",
   "id": "5a4bb35e-2442-4a03-b7cb-4db50588691b",
   "metadata": {},
   "source": [
    "# OOPS - ( Object Oriented Programming System-OOPS )\n",
    "\n",
    "1) Class\n",
    "\n",
    "2) Function"
   ]
  },
  {
   "cell_type": "code",
   "execution_count": 1,
   "id": "9e31c9ec-63db-4ae1-a7e7-48818983c355",
   "metadata": {},
   "outputs": [],
   "source": [
    " def Subraction():\n",
    "     Subraction = a-b\n",
    "     return Subraction"
   ]
  },
  {
   "cell_type": "code",
   "execution_count": 2,
   "id": "0ea3fcc0-5c49-412c-a32c-240d641b2ff5",
   "metadata": {},
   "outputs": [
    {
     "ename": "NameError",
     "evalue": "name 'addition' is not defined",
     "output_type": "error",
     "traceback": [
      "\u001b[1;31m---------------------------------------------------------------------------\u001b[0m",
      "\u001b[1;31mNameError\u001b[0m                                 Traceback (most recent call last)",
      "Cell \u001b[1;32mIn[2], line 3\u001b[0m\n\u001b[0;32m      1\u001b[0m a \u001b[38;5;241m=\u001b[39m \u001b[38;5;241m10\u001b[39m\n\u001b[0;32m      2\u001b[0m b \u001b[38;5;241m=\u001b[39m \u001b[38;5;241m20\u001b[39m\n\u001b[1;32m----> 3\u001b[0m add \u001b[38;5;241m=\u001b[39m addition()\n\u001b[0;32m      4\u001b[0m \u001b[38;5;28mprint\u001b[39m(add)\n",
      "\u001b[1;31mNameError\u001b[0m: name 'addition' is not defined"
     ]
    }
   ],
   "source": [
    "a = 10\n",
    "b = 20\n",
    "add = addition()\n",
    "print(add)"
   ]
  },
  {
   "cell_type": "code",
   "execution_count": null,
   "id": "4b7513bd-386f-4130-a26c-25a9629cf4c9",
   "metadata": {},
   "outputs": [],
   "source": [
    "addition()"
   ]
  },
  {
   "cell_type": "code",
   "execution_count": null,
   "id": "9d4afb04-4ab2-4195-89dd-4ff274e62e11",
   "metadata": {},
   "outputs": [],
   "source": [
    "a = 20\n",
    "b = 30\n",
    "sub = Subraction()\n",
    "print(sub)"
   ]
  },
  {
   "cell_type": "code",
   "execution_count": null,
   "id": "77803ab6-cec8-4d03-90e3-7b105f357c9f",
   "metadata": {},
   "outputs": [],
   "source": [
    " def number():\n",
    "     Addition = a+b\n",
    "     return Addition\n",
    "a = 20\n",
    "b = 30\n",
    "add = number()\n",
    "print(add)\n",
    "     "
   ]
  },
  {
   "cell_type": "code",
   "execution_count": null,
   "id": "790d20b8-6d2b-441c-8c7f-e9714c528b58",
   "metadata": {},
   "outputs": [],
   "source": [
    "b = 15\n",
    "add = number()\n",
    "print(add)"
   ]
  },
  {
   "cell_type": "code",
   "execution_count": null,
   "id": "66232afc-9bfe-4b1b-8089-510e21398a65",
   "metadata": {},
   "outputs": [],
   "source": [
    "a = 20\n",
    "add = number()\n",
    "print(add)"
   ]
  },
  {
   "cell_type": "code",
   "execution_count": null,
   "id": "6f63a2aa-2060-4ed9-bc3f-14e6d8ddaa8e",
   "metadata": {},
   "outputs": [],
   "source": [
    "lists = [23,45,67,34,89]\n",
    "def AgeCat():\n",
    "    for Age in lists: # this line is one control structure\n",
    "        if(Age<18): # if family is another control structure\n",
    "            print('Children')\n",
    "        elif(Age<35):\n",
    "             print('Adult')\n",
    "        elif(Age<59):\n",
    "             print('Citizen')\n",
    "        else:\n",
    "             print('Senior Citizen')# this line is one control structure\n",
    "        \n",
    "    "
   ]
  },
  {
   "cell_type": "code",
   "execution_count": null,
   "id": "22383181-e44a-47a6-b773-e1a5ad4320f2",
   "metadata": {},
   "outputs": [],
   "source": [
    "AgeCat()"
   ]
  },
  {
   "cell_type": "code",
   "execution_count": null,
   "id": "38eeec93-b0ab-4855-aa63-c333b7099e79",
   "metadata": {},
   "outputs": [],
   "source": [
    "lists = [23,45,67,34,89]\n",
    "def AgeCat():\n",
    "    for Age in lists: # this line is one control structure\n",
    "        if(Age<18): # if family is another control structure\n",
    "            print('Children')\n",
    "        elif(Age<35):\n",
    "             print('Adult')\n",
    "        elif(Age<59):\n",
    "             print('Citizen')\n",
    "        else:\n",
    "             print('Senior Citizen')"
   ]
  },
  {
   "cell_type": "code",
   "execution_count": null,
   "id": "708d21cc-ab18-482f-8a26-146f8e8b78c6",
   "metadata": {},
   "outputs": [],
   "source": [
    "AgeCat()"
   ]
  },
  {
   "cell_type": "code",
   "execution_count": 7,
   "id": "12e9e0c1-dcbf-43ad-826d-7ec1c784eda7",
   "metadata": {},
   "outputs": [
    {
     "name": "stdin",
     "output_type": "stream",
     "text": [
      "Enter your Age: 20\n"
     ]
    }
   ],
   "source": [
    "Age = int(input('Enter your Age:'))\n",
    "def AgeCat():\n",
    "        if(Age<18):\n",
    "            print('Children')\n",
    "            cate = 'Children'\n",
    "        elif(Age<35):\n",
    "             print('Adult')\n",
    "             cate = 'Adult'\n",
    "        elif(Age<59):\n",
    "             print('Citizen')\n",
    "             cate = 'Citizen'\n",
    "        else:\n",
    "             print('Senior Citizen')\n",
    "             cate ='Senior Citizen'\n",
    "        return cate"
   ]
  },
  {
   "cell_type": "code",
   "execution_count": 8,
   "id": "3754fc7c-e958-453b-b8b7-311dc93374fb",
   "metadata": {},
   "outputs": [
    {
     "name": "stdout",
     "output_type": "stream",
     "text": [
      "Adult\n",
      "Adult\n"
     ]
    }
   ],
   "source": [
    "AgeCat()\n",
    "agecate = AgeCat()"
   ]
  },
  {
   "cell_type": "code",
   "execution_count": 9,
   "id": "11e333ff-db8b-4db1-9a05-d15bfaf7d115",
   "metadata": {},
   "outputs": [
    {
     "data": {
      "text/plain": [
       "'Adult'"
      ]
     },
     "execution_count": 9,
     "metadata": {},
     "output_type": "execute_result"
    }
   ],
   "source": [
    "agecate"
   ]
  },
  {
   "cell_type": "code",
   "execution_count": 11,
   "id": "462d6ae9-50df-4124-a0f2-ee30fd8d4dbc",
   "metadata": {},
   "outputs": [
    {
     "name": "stdin",
     "output_type": "stream",
     "text": [
      "Enter your age: 20\n"
     ]
    },
    {
     "name": "stdout",
     "output_type": "stream",
     "text": [
      "Adult\n"
     ]
    }
   ],
   "source": [
    "Age = int(input('Enter your age:'))\n",
    "agecate1 = AgeCat()"
   ]
  },
  {
   "cell_type": "code",
   "execution_count": 12,
   "id": "62b89186-ba0a-4035-958f-d307969fc2a8",
   "metadata": {},
   "outputs": [
    {
     "name": "stdout",
     "output_type": "stream",
     "text": [
      "Adult\n"
     ]
    },
    {
     "data": {
      "text/plain": [
       "'Adult'"
      ]
     },
     "execution_count": 12,
     "metadata": {},
     "output_type": "execute_result"
    }
   ],
   "source": [
    "AgeCat()"
   ]
  },
  {
   "cell_type": "code",
   "execution_count": 13,
   "id": "31b0da8b-8ab3-4ba9-ba29-68bea2b65863",
   "metadata": {},
   "outputs": [
    {
     "data": {
      "text/plain": [
       "'Adult'"
      ]
     },
     "execution_count": 13,
     "metadata": {},
     "output_type": "execute_result"
    }
   ],
   "source": [
    "agecate1"
   ]
  },
  {
   "cell_type": "code",
   "execution_count": 14,
   "id": "f6ef2198-d65e-4203-a306-c791bd446867",
   "metadata": {},
   "outputs": [],
   "source": [
    "def oddEven():\n",
    "    num = int(input('Enter the number:' ))\n",
    "    if((num%2)==0):\n",
    "        print('Even number')\n",
    "        message = 'Even number'\n",
    "    else:\n",
    "        print('Odd number')\n",
    "        message = 'Odd number'\n",
    "    return message"
   ]
  },
  {
   "cell_type": "code",
   "execution_count": 15,
   "id": "38cf0b25-9da1-4b24-a6f9-7d91c9b91348",
   "metadata": {},
   "outputs": [
    {
     "name": "stdin",
     "output_type": "stream",
     "text": [
      "Enter the number: 20\n"
     ]
    },
    {
     "name": "stdout",
     "output_type": "stream",
     "text": [
      "Even number\n"
     ]
    },
    {
     "data": {
      "text/plain": [
       "'Even number'"
      ]
     },
     "execution_count": 15,
     "metadata": {},
     "output_type": "execute_result"
    }
   ],
   "source": [
    "oddEven()"
   ]
  },
  {
   "cell_type": "code",
   "execution_count": 18,
   "id": "a7923ad4-60ed-4fb4-8456-8bceb3544d03",
   "metadata": {},
   "outputs": [
    {
     "name": "stdin",
     "output_type": "stream",
     "text": [
      "Enter the number: 5\n"
     ]
    },
    {
     "name": "stdout",
     "output_type": "stream",
     "text": [
      "Odd number\n"
     ]
    }
   ],
   "source": [
    "message = oddEven()"
   ]
  },
  {
   "cell_type": "code",
   "execution_count": 19,
   "id": "c6f592ff-1eb6-4081-b8f2-13ac346c7d72",
   "metadata": {},
   "outputs": [
    {
     "data": {
      "text/plain": [
       "'Odd number'"
      ]
     },
     "execution_count": 19,
     "metadata": {},
     "output_type": "execute_result"
    }
   ],
   "source": [
    "message"
   ]
  },
  {
   "cell_type": "code",
   "execution_count": 26,
   "id": "63761c7d-b779-4676-9e9d-b36485238674",
   "metadata": {},
   "outputs": [
    {
     "name": "stdout",
     "output_type": "stream",
     "text": [
      "The Given number is odd\n"
     ]
    }
   ],
   "source": [
    "if(message =='Even number'):\n",
    "    print('The Given number is Even')\n",
    "else:\n",
    "    print('The Given number is odd')\n",
    "    "
   ]
  },
  {
   "cell_type": "code",
   "execution_count": 28,
   "id": "04b35714-2222-4ec1-a6fb-274a08fdd7cd",
   "metadata": {},
   "outputs": [],
   "source": [
    "def oddEven():\n",
    "    num = int(input('Enter the number:' ))\n",
    "    if((num%2)==0):\n",
    "        print('Even number')\n",
    "        message = 'Even number'\n",
    "    else:\n",
    "        print('Odd number')\n",
    "        message = 'Odd number'\n",
    "    return message    "
   ]
  },
  {
   "cell_type": "code",
   "execution_count": 29,
   "id": "42e9293d-9d07-409f-b80b-e2ecc3214e7f",
   "metadata": {},
   "outputs": [
    {
     "name": "stdin",
     "output_type": "stream",
     "text": [
      "Enter the number: 20\n"
     ]
    },
    {
     "name": "stdout",
     "output_type": "stream",
     "text": [
      "Even number\n"
     ]
    },
    {
     "data": {
      "text/plain": [
       "'Even number'"
      ]
     },
     "execution_count": 29,
     "metadata": {},
     "output_type": "execute_result"
    }
   ],
   "source": [
    "oddEven()"
   ]
  },
  {
   "cell_type": "code",
   "execution_count": 30,
   "id": "61b29e82-074d-41d3-86ab-ba1e492b5b7a",
   "metadata": {},
   "outputs": [
    {
     "name": "stdin",
     "output_type": "stream",
     "text": [
      "Enter the number: 15\n"
     ]
    },
    {
     "name": "stdout",
     "output_type": "stream",
     "text": [
      "Odd number\n"
     ]
    }
   ],
   "source": [
    "message = oddEven()"
   ]
  },
  {
   "cell_type": "code",
   "execution_count": 31,
   "id": "d646dd2c-72fc-4a3a-bffb-67477d2a8fa5",
   "metadata": {},
   "outputs": [
    {
     "name": "stdout",
     "output_type": "stream",
     "text": [
      "The Given number is odd\n"
     ]
    }
   ],
   "source": [
    "if(message =='Even number'):\n",
    "    print('The Given number is Even')\n",
    "else:\n",
    "    print('The Given number is odd')"
   ]
  },
  {
   "cell_type": "code",
   "execution_count": 32,
   "id": "db1109da-7317-4937-b9a1-af96779cf346",
   "metadata": {},
   "outputs": [
    {
     "data": {
      "text/plain": [
       "'Odd number'"
      ]
     },
     "execution_count": 32,
     "metadata": {},
     "output_type": "execute_result"
    }
   ],
   "source": [
    "message"
   ]
  },
  {
   "cell_type": "code",
   "execution_count": 43,
   "id": "3c8c550f-ebe1-4eaa-9a42-9eb71edcbbc5",
   "metadata": {},
   "outputs": [],
   "source": [
    "def BMI():\n",
    "    BMI = int(input('Enter the BMI Index: '))\n",
    "    if(BMI < 18.5):\n",
    "        print('Under Weight')\n",
    "        messgae = 'Under Weight'\n",
    "    elif(BMI < 24.9):\n",
    "        print('Normal')\n",
    "        messgae = 'Normal'\n",
    "    elif(BMI < 29.9):\n",
    "        print('Over Weight')\n",
    "        messgae = 'Over Weight'\n",
    "    elif(BMI < 34.9):\n",
    "        print('Very OverWeight')\n",
    "        messgae = 'Very OverWeight'\n",
    "    else:\n",
    "        print('Extremely OverWeight')\n",
    "        messgae = 'Extremely OverWeight'\n",
    "    return messgae    "
   ]
  },
  {
   "cell_type": "code",
   "execution_count": 44,
   "id": "872561d6-18a3-4ff5-bc3b-a6f6119473d7",
   "metadata": {},
   "outputs": [
    {
     "name": "stdin",
     "output_type": "stream",
     "text": [
      "Enter the BMI Index:  30\n"
     ]
    },
    {
     "name": "stdout",
     "output_type": "stream",
     "text": [
      "Very OverWeight\n"
     ]
    }
   ],
   "source": [
    "bmi1=BMI()"
   ]
  },
  {
   "cell_type": "code",
   "execution_count": 45,
   "id": "454f3fa3-ef06-4da1-aa59-ed7d8c4adf3b",
   "metadata": {},
   "outputs": [
    {
     "data": {
      "text/plain": [
       "'Very OverWeight'"
      ]
     },
     "execution_count": 45,
     "metadata": {},
     "output_type": "execute_result"
    }
   ],
   "source": [
    "bmi1"
   ]
  },
  {
   "cell_type": "code",
   "execution_count": 47,
   "id": "41c4fb70-a1b2-406f-a83c-3c5ffe507af3",
   "metadata": {},
   "outputs": [
    {
     "data": {
      "text/plain": [
       "3"
      ]
     },
     "execution_count": 47,
     "metadata": {},
     "output_type": "execute_result"
    }
   ],
   "source": [
    "def addition(num1,num2):\n",
    "    add = num1+num2\n",
    "    return add\n",
    "\n",
    "addition(1,2)"
   ]
  },
  {
   "cell_type": "code",
   "execution_count": 50,
   "id": "9f998352-c4d6-4e07-8dba-3cfcfd8fcb84",
   "metadata": {},
   "outputs": [
    {
     "data": {
      "text/plain": [
       "80"
      ]
     },
     "execution_count": 50,
     "metadata": {},
     "output_type": "execute_result"
    }
   ],
   "source": [
    "def sub(num1,num2):\n",
    "    sub = num1-num2\n",
    "    return sub\n",
    "\n",
    "sub(100,20)\n",
    "\n"
   ]
  },
  {
   "cell_type": "code",
   "execution_count": 52,
   "id": "36e616a8-0523-4a27-9776-7f0270bde9dc",
   "metadata": {},
   "outputs": [
    {
     "data": {
      "text/plain": [
       "70"
      ]
     },
     "execution_count": 52,
     "metadata": {},
     "output_type": "execute_result"
    }
   ],
   "source": [
    "def sub(num1,num2):\n",
    "    sub = num1-num2\n",
    "    return sub\n",
    "\n",
    "sub(100,30)"
   ]
  },
  {
   "cell_type": "code",
   "execution_count": null,
   "id": "647699b9-d698-4d23-b478-4ef77c35364f",
   "metadata": {},
   "outputs": [],
   "source": []
  }
 ],
 "metadata": {
  "kernelspec": {
   "display_name": "Python 3 (ipykernel)",
   "language": "python",
   "name": "python3"
  },
  "language_info": {
   "codemirror_mode": {
    "name": "ipython",
    "version": 3
   },
   "file_extension": ".py",
   "mimetype": "text/x-python",
   "name": "python",
   "nbconvert_exporter": "python",
   "pygments_lexer": "ipython3",
   "version": "3.11.7"
  }
 },
 "nbformat": 4,
 "nbformat_minor": 5
}
